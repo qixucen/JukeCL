{
 "cells": [
  {
   "cell_type": "code",
   "execution_count": null,
   "metadata": {},
   "outputs": [],
   "source": [
    "import jukemirlib\n",
    "import torch\n",
    "import numpy as np\n",
    "\n",
    "gpu_id = 1\n",
    "torch.cuda.set_device(gpu_id)\n",
    "fpath = 'data/magnatagatune/f/american_bach_soloists-j_s__bach_solo_cantatas-01-bwv54__i_aria-291-320.wav'\n",
    "audio = jukemirlib.load_audio(fpath)\n",
    "audio = torch.tensor(audio)\n",
    "audio = audio.__array__()\n",
    "reps = jukemirlib.extract(audio, layers=[36])"
   ]
  },
  {
   "cell_type": "code",
   "execution_count": null,
   "metadata": {},
   "outputs": [],
   "source": [
    "print(len(audio)) # 1284369\n",
    "print(torch.tensor(reps[36]))"
   ]
  },
  {
   "cell_type": "code",
   "execution_count": null,
   "metadata": {},
   "outputs": [],
   "source": [
    "from clmr.datasets import get_dataset\n",
    "from clmr.data import ContrastiveDataset\n",
    "from torchaudio_augmentations import (\n",
    "    RandomApply,\n",
    "    ComposeMany,\n",
    "    RandomResizedCrop,\n",
    "    PolarityInversion,\n",
    "    Noise,\n",
    "    Gain,\n",
    "    HighLowPass,\n",
    "    Delay,\n",
    "    PitchShift,\n",
    "    Reverb,\n",
    ")\n",
    "from torch.utils.data import DataLoader\n",
    "train_dataset = get_dataset(\n",
    "    'magnatagatune', './data', subset=\"train\", download=False)\n",
    "audio_length = 59049\n",
    "transforms_polarity = 0.8\n",
    "transforms_noise = 0.01\n",
    "transforms_gain = 0.3\n",
    "transforms_filters = 0.8\n",
    "transforms_delay = 0.3\n",
    "transforms_pitch = 0.6\n",
    "transforms_reverb = 0.6\n",
    "load_dataset = True\n",
    "sample_rate = 22050\n",
    "train_transform = [\n",
    "    RandomResizedCrop(n_samples=audio_length),\n",
    "    RandomApply([PolarityInversion()], p=transforms_polarity),\n",
    "    RandomApply([Noise()], p=transforms_noise),\n",
    "    RandomApply([Gain()], p=transforms_gain),\n",
    "    RandomApply(\n",
    "        [HighLowPass(sample_rate=sample_rate)], p=transforms_filters\n",
    "    ),\n",
    "    RandomApply([Delay(sample_rate=sample_rate)], p=transforms_delay),\n",
    "    RandomApply(\n",
    "        [\n",
    "            PitchShift(\n",
    "                n_samples=audio_length,\n",
    "                sample_rate=sample_rate,\n",
    "            )\n",
    "        ],\n",
    "        p=transforms_pitch,\n",
    "    ),\n",
    "    RandomApply(\n",
    "        [Reverb(sample_rate=sample_rate)], p=transforms_reverb\n",
    "    ),\n",
    "]\n",
    "num_augmented_samples = 2\n",
    "contrastive_train_dataset = ContrastiveDataset(\n",
    "    train_dataset,\n",
    "    input_shape=(1, audio_length),\n",
    "    transform=ComposeMany(\n",
    "        train_transform, num_augmented_samples=2\n",
    "    ),\n",
    ")\n",
    "train_loader = DataLoader(\n",
    "        contrastive_train_dataset,\n",
    "        batch_size=12,\n",
    "        num_workers=16,\n",
    "        persistent_workers=True,\n",
    "        drop_last=True,\n",
    "        shuffle=True,\n",
    "    )"
   ]
  }
 ],
 "metadata": {
  "kernelspec": {
   "display_name": "clmr",
   "language": "python",
   "name": "python3"
  },
  "language_info": {
   "codemirror_mode": {
    "name": "ipython",
    "version": 3
   },
   "file_extension": ".py",
   "mimetype": "text/x-python",
   "name": "python",
   "nbconvert_exporter": "python",
   "pygments_lexer": "ipython3",
   "version": "3.8.0"
  },
  "orig_nbformat": 4
 },
 "nbformat": 4,
 "nbformat_minor": 2
}
