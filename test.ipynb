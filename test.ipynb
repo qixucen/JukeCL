{
 "cells": [
  {
   "cell_type": "code",
   "execution_count": 4,
   "metadata": {},
   "outputs": [
    {
     "ename": "ModuleNotFoundError",
     "evalue": "No module named 'datasets'",
     "output_type": "error",
     "traceback": [
      "\u001b[0;31m---------------------------------------------------------------------------\u001b[0m",
      "\u001b[0;31mModuleNotFoundError\u001b[0m                       Traceback (most recent call last)",
      "Cell \u001b[0;32mIn[4], line 2\u001b[0m\n\u001b[1;32m      1\u001b[0m \u001b[39mimport\u001b[39;00m \u001b[39mos\u001b[39;00m\n\u001b[0;32m----> 2\u001b[0m \u001b[39mfrom\u001b[39;00m \u001b[39mdatasets\u001b[39;00m \u001b[39mimport\u001b[39;00m load_dataset, load_from_disk, get_dataset_split_names\n\u001b[1;32m      3\u001b[0m os\u001b[39m.\u001b[39menviron[\u001b[39m\"\u001b[39m\u001b[39mhttp_proxy\u001b[39m\u001b[39m\"\u001b[39m] \u001b[39m=\u001b[39m \u001b[39m\"\u001b[39m\u001b[39mhttp://127.0.0.1:10809\u001b[39m\u001b[39m\"\u001b[39m\n\u001b[1;32m      4\u001b[0m os\u001b[39m.\u001b[39menviron[\u001b[39m\"\u001b[39m\u001b[39mhttps_proxy\u001b[39m\u001b[39m\"\u001b[39m] \u001b[39m=\u001b[39m \u001b[39m\"\u001b[39m\u001b[39mhttp://127.0.0.1:10809\u001b[39m\u001b[39m\"\u001b[39m\n",
      "\u001b[0;31mModuleNotFoundError\u001b[0m: No module named 'datasets'"
     ]
    }
   ],
   "source": [
    "import os\n",
    "from datasets import load_dataset, load_from_disk, get_dataset_split_names\n",
    "os.environ[\"http_proxy\"] = \"http://127.0.0.1:10809\"\n",
    "os.environ[\"https_proxy\"] = \"http://127.0.0.1:10809\"\n",
    "# dataset = load_dataset('ccmusic-database/music_genre', cache_dir='data/')\n",
    "# dataset = load_from_disk(dataset_path='data/')"
   ]
  },
  {
   "cell_type": "code",
   "execution_count": 5,
   "metadata": {},
   "outputs": [],
   "source": [
    "import torch\n",
    "import torch.nn as nn\n",
    "\n",
    "\n",
    "from model.music import MCB, MCBBlock\n",
    "\n",
    "dims = [(1, 96, 800), (128,16,200)]\n",
    "c = MCBBlock(dims[0], dims[1])\n",
    "m = MCB(dims)\n",
    "input = torch.randn(12, 1, 96, 800)\n",
    "output = m(input)"
   ]
  },
  {
   "cell_type": "code",
   "execution_count": 6,
   "metadata": {},
   "outputs": [
    {
     "ename": "URLError",
     "evalue": "<urlopen error [Errno 110] Connection timed out>",
     "output_type": "error",
     "traceback": [
      "\u001b[0;31m---------------------------------------------------------------------------\u001b[0m",
      "\u001b[0;31mTimeoutError\u001b[0m                              Traceback (most recent call last)",
      "File \u001b[0;32m~/anaconda3/envs/clmr/lib/python3.8/urllib/request.py:1317\u001b[0m, in \u001b[0;36mAbstractHTTPHandler.do_open\u001b[0;34m(self, http_class, req, **http_conn_args)\u001b[0m\n\u001b[1;32m   1316\u001b[0m \u001b[39mtry\u001b[39;00m:\n\u001b[0;32m-> 1317\u001b[0m     h\u001b[39m.\u001b[39;49mrequest(req\u001b[39m.\u001b[39;49mget_method(), req\u001b[39m.\u001b[39;49mselector, req\u001b[39m.\u001b[39;49mdata, headers,\n\u001b[1;32m   1318\u001b[0m               encode_chunked\u001b[39m=\u001b[39;49mreq\u001b[39m.\u001b[39;49mhas_header(\u001b[39m'\u001b[39;49m\u001b[39mTransfer-encoding\u001b[39;49m\u001b[39m'\u001b[39;49m))\n\u001b[1;32m   1319\u001b[0m \u001b[39mexcept\u001b[39;00m \u001b[39mOSError\u001b[39;00m \u001b[39mas\u001b[39;00m err: \u001b[39m# timeout error\u001b[39;00m\n",
      "File \u001b[0;32m~/anaconda3/envs/clmr/lib/python3.8/http/client.py:1230\u001b[0m, in \u001b[0;36mHTTPConnection.request\u001b[0;34m(self, method, url, body, headers, encode_chunked)\u001b[0m\n\u001b[1;32m   1229\u001b[0m \u001b[39m\u001b[39m\u001b[39m\"\"\"Send a complete request to the server.\"\"\"\u001b[39;00m\n\u001b[0;32m-> 1230\u001b[0m \u001b[39mself\u001b[39;49m\u001b[39m.\u001b[39;49m_send_request(method, url, body, headers, encode_chunked)\n",
      "File \u001b[0;32m~/anaconda3/envs/clmr/lib/python3.8/http/client.py:1276\u001b[0m, in \u001b[0;36mHTTPConnection._send_request\u001b[0;34m(self, method, url, body, headers, encode_chunked)\u001b[0m\n\u001b[1;32m   1275\u001b[0m     body \u001b[39m=\u001b[39m _encode(body, \u001b[39m'\u001b[39m\u001b[39mbody\u001b[39m\u001b[39m'\u001b[39m)\n\u001b[0;32m-> 1276\u001b[0m \u001b[39mself\u001b[39;49m\u001b[39m.\u001b[39;49mendheaders(body, encode_chunked\u001b[39m=\u001b[39;49mencode_chunked)\n",
      "File \u001b[0;32m~/anaconda3/envs/clmr/lib/python3.8/http/client.py:1225\u001b[0m, in \u001b[0;36mHTTPConnection.endheaders\u001b[0;34m(self, message_body, encode_chunked)\u001b[0m\n\u001b[1;32m   1224\u001b[0m     \u001b[39mraise\u001b[39;00m CannotSendHeader()\n\u001b[0;32m-> 1225\u001b[0m \u001b[39mself\u001b[39;49m\u001b[39m.\u001b[39;49m_send_output(message_body, encode_chunked\u001b[39m=\u001b[39;49mencode_chunked)\n",
      "File \u001b[0;32m~/anaconda3/envs/clmr/lib/python3.8/http/client.py:1004\u001b[0m, in \u001b[0;36mHTTPConnection._send_output\u001b[0;34m(self, message_body, encode_chunked)\u001b[0m\n\u001b[1;32m   1003\u001b[0m \u001b[39mdel\u001b[39;00m \u001b[39mself\u001b[39m\u001b[39m.\u001b[39m_buffer[:]\n\u001b[0;32m-> 1004\u001b[0m \u001b[39mself\u001b[39;49m\u001b[39m.\u001b[39;49msend(msg)\n\u001b[1;32m   1006\u001b[0m \u001b[39mif\u001b[39;00m message_body \u001b[39mis\u001b[39;00m \u001b[39mnot\u001b[39;00m \u001b[39mNone\u001b[39;00m:\n\u001b[1;32m   1007\u001b[0m \n\u001b[1;32m   1008\u001b[0m     \u001b[39m# create a consistent interface to message_body\u001b[39;00m\n",
      "File \u001b[0;32m~/anaconda3/envs/clmr/lib/python3.8/http/client.py:944\u001b[0m, in \u001b[0;36mHTTPConnection.send\u001b[0;34m(self, data)\u001b[0m\n\u001b[1;32m    943\u001b[0m \u001b[39mif\u001b[39;00m \u001b[39mself\u001b[39m\u001b[39m.\u001b[39mauto_open:\n\u001b[0;32m--> 944\u001b[0m     \u001b[39mself\u001b[39;49m\u001b[39m.\u001b[39;49mconnect()\n\u001b[1;32m    945\u001b[0m \u001b[39melse\u001b[39;00m:\n",
      "File \u001b[0;32m~/anaconda3/envs/clmr/lib/python3.8/http/client.py:915\u001b[0m, in \u001b[0;36mHTTPConnection.connect\u001b[0;34m(self)\u001b[0m\n\u001b[1;32m    914\u001b[0m \u001b[39m\u001b[39m\u001b[39m\"\"\"Connect to the host and port specified in __init__.\"\"\"\u001b[39;00m\n\u001b[0;32m--> 915\u001b[0m \u001b[39mself\u001b[39m\u001b[39m.\u001b[39msock \u001b[39m=\u001b[39m \u001b[39mself\u001b[39;49m\u001b[39m.\u001b[39;49m_create_connection(\n\u001b[1;32m    916\u001b[0m     (\u001b[39mself\u001b[39;49m\u001b[39m.\u001b[39;49mhost,\u001b[39mself\u001b[39;49m\u001b[39m.\u001b[39;49mport), \u001b[39mself\u001b[39;49m\u001b[39m.\u001b[39;49mtimeout, \u001b[39mself\u001b[39;49m\u001b[39m.\u001b[39;49msource_address)\n\u001b[1;32m    917\u001b[0m \u001b[39mself\u001b[39m\u001b[39m.\u001b[39msock\u001b[39m.\u001b[39msetsockopt(socket\u001b[39m.\u001b[39mIPPROTO_TCP, socket\u001b[39m.\u001b[39mTCP_NODELAY, \u001b[39m1\u001b[39m)\n",
      "File \u001b[0;32m~/anaconda3/envs/clmr/lib/python3.8/socket.py:807\u001b[0m, in \u001b[0;36mcreate_connection\u001b[0;34m(address, timeout, source_address)\u001b[0m\n\u001b[1;32m    806\u001b[0m \u001b[39mif\u001b[39;00m err \u001b[39mis\u001b[39;00m \u001b[39mnot\u001b[39;00m \u001b[39mNone\u001b[39;00m:\n\u001b[0;32m--> 807\u001b[0m     \u001b[39mraise\u001b[39;00m err\n\u001b[1;32m    808\u001b[0m \u001b[39melse\u001b[39;00m:\n",
      "File \u001b[0;32m~/anaconda3/envs/clmr/lib/python3.8/socket.py:796\u001b[0m, in \u001b[0;36mcreate_connection\u001b[0;34m(address, timeout, source_address)\u001b[0m\n\u001b[1;32m    795\u001b[0m     sock\u001b[39m.\u001b[39mbind(source_address)\n\u001b[0;32m--> 796\u001b[0m sock\u001b[39m.\u001b[39;49mconnect(sa)\n\u001b[1;32m    797\u001b[0m \u001b[39m# Break explicitly a reference cycle\u001b[39;00m\n",
      "\u001b[0;31mTimeoutError\u001b[0m: [Errno 110] Connection timed out",
      "\nDuring handling of the above exception, another exception occurred:\n",
      "\u001b[0;31mURLError\u001b[0m                                  Traceback (most recent call last)",
      "Cell \u001b[0;32mIn[6], line 2\u001b[0m\n\u001b[1;32m      1\u001b[0m \u001b[39mimport\u001b[39;00m \u001b[39mtorchaudio\u001b[39;00m\n\u001b[0;32m----> 2\u001b[0m yesno_data \u001b[39m=\u001b[39m torchaudio\u001b[39m.\u001b[39;49mdatasets\u001b[39m.\u001b[39;49mGTZAN(\u001b[39m'\u001b[39;49m\u001b[39m.\u001b[39;49m\u001b[39m'\u001b[39;49m, download\u001b[39m=\u001b[39;49m\u001b[39mTrue\u001b[39;49;00m)\n\u001b[1;32m      3\u001b[0m data_loader \u001b[39m=\u001b[39m torch\u001b[39m.\u001b[39mutils\u001b[39m.\u001b[39mdata\u001b[39m.\u001b[39mDataLoader(\n\u001b[1;32m      4\u001b[0m     yesno_data,\n\u001b[1;32m      5\u001b[0m     batch_size\u001b[39m=\u001b[39m\u001b[39m1\u001b[39m,\n\u001b[1;32m      6\u001b[0m     shuffle\u001b[39m=\u001b[39m\u001b[39mTrue\u001b[39;00m,\n\u001b[1;32m      7\u001b[0m     num_workers\u001b[39m=\u001b[39m\u001b[39m16\u001b[39m)\n",
      "File \u001b[0;32m~/anaconda3/envs/clmr/lib/python3.8/site-packages/torchaudio/datasets/gtzan.py:1054\u001b[0m, in \u001b[0;36mGTZAN.__init__\u001b[0;34m(self, root, url, folder_in_archive, download, subset)\u001b[0m\n\u001b[1;32m   1052\u001b[0m         \u001b[39mif\u001b[39;00m \u001b[39mnot\u001b[39;00m os\u001b[39m.\u001b[39mpath\u001b[39m.\u001b[39misfile(archive):\n\u001b[1;32m   1053\u001b[0m             checksum \u001b[39m=\u001b[39m _CHECKSUMS\u001b[39m.\u001b[39mget(url, \u001b[39mNone\u001b[39;00m)\n\u001b[0;32m-> 1054\u001b[0m             download_url_to_file(url, archive, hash_prefix\u001b[39m=\u001b[39;49mchecksum)\n\u001b[1;32m   1055\u001b[0m         _extract_tar(archive)\n\u001b[1;32m   1057\u001b[0m \u001b[39mif\u001b[39;00m \u001b[39mnot\u001b[39;00m os\u001b[39m.\u001b[39mpath\u001b[39m.\u001b[39misdir(\u001b[39mself\u001b[39m\u001b[39m.\u001b[39m_path):\n",
      "File \u001b[0;32m~/anaconda3/envs/clmr/lib/python3.8/site-packages/torch/hub.py:611\u001b[0m, in \u001b[0;36mdownload_url_to_file\u001b[0;34m(url, dst, hash_prefix, progress)\u001b[0m\n\u001b[1;32m    609\u001b[0m file_size \u001b[39m=\u001b[39m \u001b[39mNone\u001b[39;00m\n\u001b[1;32m    610\u001b[0m req \u001b[39m=\u001b[39m Request(url, headers\u001b[39m=\u001b[39m{\u001b[39m\"\u001b[39m\u001b[39mUser-Agent\u001b[39m\u001b[39m\"\u001b[39m: \u001b[39m\"\u001b[39m\u001b[39mtorch.hub\u001b[39m\u001b[39m\"\u001b[39m})\n\u001b[0;32m--> 611\u001b[0m u \u001b[39m=\u001b[39m urlopen(req)\n\u001b[1;32m    612\u001b[0m meta \u001b[39m=\u001b[39m u\u001b[39m.\u001b[39minfo()\n\u001b[1;32m    613\u001b[0m \u001b[39mif\u001b[39;00m \u001b[39mhasattr\u001b[39m(meta, \u001b[39m'\u001b[39m\u001b[39mgetheaders\u001b[39m\u001b[39m'\u001b[39m):\n",
      "File \u001b[0;32m~/anaconda3/envs/clmr/lib/python3.8/urllib/request.py:222\u001b[0m, in \u001b[0;36murlopen\u001b[0;34m(url, data, timeout, cafile, capath, cadefault, context)\u001b[0m\n\u001b[1;32m    220\u001b[0m \u001b[39melse\u001b[39;00m:\n\u001b[1;32m    221\u001b[0m     opener \u001b[39m=\u001b[39m _opener\n\u001b[0;32m--> 222\u001b[0m \u001b[39mreturn\u001b[39;00m opener\u001b[39m.\u001b[39;49mopen(url, data, timeout)\n",
      "File \u001b[0;32m~/anaconda3/envs/clmr/lib/python3.8/urllib/request.py:525\u001b[0m, in \u001b[0;36mOpenerDirector.open\u001b[0;34m(self, fullurl, data, timeout)\u001b[0m\n\u001b[1;32m    522\u001b[0m     req \u001b[39m=\u001b[39m meth(req)\n\u001b[1;32m    524\u001b[0m sys\u001b[39m.\u001b[39maudit(\u001b[39m'\u001b[39m\u001b[39murllib.Request\u001b[39m\u001b[39m'\u001b[39m, req\u001b[39m.\u001b[39mfull_url, req\u001b[39m.\u001b[39mdata, req\u001b[39m.\u001b[39mheaders, req\u001b[39m.\u001b[39mget_method())\n\u001b[0;32m--> 525\u001b[0m response \u001b[39m=\u001b[39m \u001b[39mself\u001b[39;49m\u001b[39m.\u001b[39;49m_open(req, data)\n\u001b[1;32m    527\u001b[0m \u001b[39m# post-process response\u001b[39;00m\n\u001b[1;32m    528\u001b[0m meth_name \u001b[39m=\u001b[39m protocol\u001b[39m+\u001b[39m\u001b[39m\"\u001b[39m\u001b[39m_response\u001b[39m\u001b[39m\"\u001b[39m\n",
      "File \u001b[0;32m~/anaconda3/envs/clmr/lib/python3.8/urllib/request.py:542\u001b[0m, in \u001b[0;36mOpenerDirector._open\u001b[0;34m(self, req, data)\u001b[0m\n\u001b[1;32m    539\u001b[0m     \u001b[39mreturn\u001b[39;00m result\n\u001b[1;32m    541\u001b[0m protocol \u001b[39m=\u001b[39m req\u001b[39m.\u001b[39mtype\n\u001b[0;32m--> 542\u001b[0m result \u001b[39m=\u001b[39m \u001b[39mself\u001b[39;49m\u001b[39m.\u001b[39;49m_call_chain(\u001b[39mself\u001b[39;49m\u001b[39m.\u001b[39;49mhandle_open, protocol, protocol \u001b[39m+\u001b[39;49m\n\u001b[1;32m    543\u001b[0m                           \u001b[39m'\u001b[39;49m\u001b[39m_open\u001b[39;49m\u001b[39m'\u001b[39;49m, req)\n\u001b[1;32m    544\u001b[0m \u001b[39mif\u001b[39;00m result:\n\u001b[1;32m    545\u001b[0m     \u001b[39mreturn\u001b[39;00m result\n",
      "File \u001b[0;32m~/anaconda3/envs/clmr/lib/python3.8/urllib/request.py:502\u001b[0m, in \u001b[0;36mOpenerDirector._call_chain\u001b[0;34m(self, chain, kind, meth_name, *args)\u001b[0m\n\u001b[1;32m    500\u001b[0m \u001b[39mfor\u001b[39;00m handler \u001b[39min\u001b[39;00m handlers:\n\u001b[1;32m    501\u001b[0m     func \u001b[39m=\u001b[39m \u001b[39mgetattr\u001b[39m(handler, meth_name)\n\u001b[0;32m--> 502\u001b[0m     result \u001b[39m=\u001b[39m func(\u001b[39m*\u001b[39;49margs)\n\u001b[1;32m    503\u001b[0m     \u001b[39mif\u001b[39;00m result \u001b[39mis\u001b[39;00m \u001b[39mnot\u001b[39;00m \u001b[39mNone\u001b[39;00m:\n\u001b[1;32m    504\u001b[0m         \u001b[39mreturn\u001b[39;00m result\n",
      "File \u001b[0;32m~/anaconda3/envs/clmr/lib/python3.8/urllib/request.py:1346\u001b[0m, in \u001b[0;36mHTTPHandler.http_open\u001b[0;34m(self, req)\u001b[0m\n\u001b[1;32m   1345\u001b[0m \u001b[39mdef\u001b[39;00m \u001b[39mhttp_open\u001b[39m(\u001b[39mself\u001b[39m, req):\n\u001b[0;32m-> 1346\u001b[0m     \u001b[39mreturn\u001b[39;00m \u001b[39mself\u001b[39;49m\u001b[39m.\u001b[39;49mdo_open(http\u001b[39m.\u001b[39;49mclient\u001b[39m.\u001b[39;49mHTTPConnection, req)\n",
      "File \u001b[0;32m~/anaconda3/envs/clmr/lib/python3.8/urllib/request.py:1320\u001b[0m, in \u001b[0;36mAbstractHTTPHandler.do_open\u001b[0;34m(self, http_class, req, **http_conn_args)\u001b[0m\n\u001b[1;32m   1317\u001b[0m         h\u001b[39m.\u001b[39mrequest(req\u001b[39m.\u001b[39mget_method(), req\u001b[39m.\u001b[39mselector, req\u001b[39m.\u001b[39mdata, headers,\n\u001b[1;32m   1318\u001b[0m                   encode_chunked\u001b[39m=\u001b[39mreq\u001b[39m.\u001b[39mhas_header(\u001b[39m'\u001b[39m\u001b[39mTransfer-encoding\u001b[39m\u001b[39m'\u001b[39m))\n\u001b[1;32m   1319\u001b[0m     \u001b[39mexcept\u001b[39;00m \u001b[39mOSError\u001b[39;00m \u001b[39mas\u001b[39;00m err: \u001b[39m# timeout error\u001b[39;00m\n\u001b[0;32m-> 1320\u001b[0m         \u001b[39mraise\u001b[39;00m URLError(err)\n\u001b[1;32m   1321\u001b[0m     r \u001b[39m=\u001b[39m h\u001b[39m.\u001b[39mgetresponse()\n\u001b[1;32m   1322\u001b[0m \u001b[39mexcept\u001b[39;00m:\n",
      "\u001b[0;31mURLError\u001b[0m: <urlopen error [Errno 110] Connection timed out>"
     ]
    }
   ],
   "source": [
    "import torchaudio\n",
    "yesno_data = torchaudio.datasets.GTZAN('.', download=True)\n",
    "data_loader = torch.utils.data.DataLoader(\n",
    "    yesno_data,\n",
    "    batch_size=1,\n",
    "    shuffle=True,\n",
    "    num_workers=16)"
   ]
  },
  {
   "cell_type": "code",
   "execution_count": null,
   "metadata": {},
   "outputs": [],
   "source": [
    "from dataset import get_dataset\n",
    "train_dataset = get_dataset('data_', subset='test')"
   ]
  },
  {
   "cell_type": "code",
   "execution_count": 13,
   "metadata": {},
   "outputs": [
    {
     "name": "stdout",
     "output_type": "stream",
     "text": [
      "torch.Size([64, 10])\n"
     ]
    }
   ],
   "source": [
    "import torch\n",
    "x = torch.randn(64, 32)\n",
    "cluster_centers = torch.randn(10, 32)\n",
    "norm_squared = torch.sum((x.unsqueeze(1) - cluster_centers)**2, 2)\n",
    "print(norm_squared.shape)\n",
    "\n",
    "k = torch.load('runs/CLMRv2-GTZAN/version_1/checkpoints/epoch=299-step=300.ckpt')"
   ]
  },
  {
   "cell_type": "code",
   "execution_count": 15,
   "metadata": {},
   "outputs": [
    {
     "name": "stdout",
     "output_type": "stream",
     "text": [
      "autoencoder.MCB.MCBBlocks.0.convlayer.weight\n",
      "autoencoder.MCB.MCBBlocks.0.convlayer.bias\n",
      "autoencoder.MCB.MCBBlocks.0.normlayer.weight\n",
      "autoencoder.MCB.MCBBlocks.0.normlayer.bias\n",
      "autoencoder.MCB.MCBBlocks.0.normlayer.running_mean\n",
      "autoencoder.MCB.MCBBlocks.0.normlayer.running_var\n",
      "autoencoder.MCB.MCBBlocks.0.normlayer.num_batches_tracked\n",
      "autoencoder.MCB.MCBBlocks.1.convlayer.weight\n",
      "autoencoder.MCB.MCBBlocks.1.convlayer.bias\n",
      "autoencoder.MCB.MCBBlocks.1.normlayer.weight\n",
      "autoencoder.MCB.MCBBlocks.1.normlayer.bias\n",
      "autoencoder.MCB.MCBBlocks.1.normlayer.running_mean\n",
      "autoencoder.MCB.MCBBlocks.1.normlayer.running_var\n",
      "autoencoder.MCB.MCBBlocks.1.normlayer.num_batches_tracked\n",
      "autoencoder.MCB.MCBBlocks.2.convlayer.weight\n",
      "autoencoder.MCB.MCBBlocks.2.convlayer.bias\n",
      "autoencoder.MCB.MCBBlocks.2.normlayer.weight\n",
      "autoencoder.MCB.MCBBlocks.2.normlayer.bias\n",
      "autoencoder.MCB.MCBBlocks.2.normlayer.running_mean\n",
      "autoencoder.MCB.MCBBlocks.2.normlayer.running_var\n",
      "autoencoder.MCB.MCBBlocks.2.normlayer.num_batches_tracked\n",
      "autoencoder.MCB.MCBBlocks.3.convlayer.weight\n",
      "autoencoder.MCB.MCBBlocks.3.convlayer.bias\n",
      "autoencoder.MCB.MCBBlocks.3.normlayer.weight\n",
      "autoencoder.MCB.MCBBlocks.3.normlayer.bias\n",
      "autoencoder.MCB.MCBBlocks.3.normlayer.running_mean\n",
      "autoencoder.MCB.MCBBlocks.3.normlayer.running_var\n",
      "autoencoder.MCB.MCBBlocks.3.normlayer.num_batches_tracked\n",
      "autoencoder.GRU.GRUBlocks.0.weight_ih_l0\n",
      "autoencoder.GRU.GRUBlocks.0.weight_hh_l0\n",
      "autoencoder.GRU.GRUBlocks.0.bias_ih_l0\n",
      "autoencoder.GRU.GRUBlocks.0.bias_hh_l0\n",
      "autoencoder.GRU.GRUBlocks.0.weight_ih_l1\n",
      "autoencoder.GRU.GRUBlocks.0.weight_hh_l1\n",
      "autoencoder.GRU.GRUBlocks.0.bias_ih_l1\n",
      "autoencoder.GRU.GRUBlocks.0.bias_hh_l1\n",
      "autoencoder.GRU.GRUBlocks.1.weight_ih_l0\n",
      "autoencoder.GRU.GRUBlocks.1.weight_hh_l0\n",
      "autoencoder.GRU.GRUBlocks.1.bias_ih_l0\n",
      "autoencoder.GRU.GRUBlocks.1.bias_hh_l0\n",
      "autoencoder.GRU.GRUBlocks.1.weight_ih_l1\n",
      "autoencoder.GRU.GRUBlocks.1.weight_hh_l1\n",
      "autoencoder.GRU.GRUBlocks.1.bias_ih_l1\n",
      "autoencoder.GRU.GRUBlocks.1.bias_hh_l1\n",
      "autoencoder.MCB_de.DEMCBBlocks.0.convlayer.weight\n",
      "autoencoder.MCB_de.DEMCBBlocks.0.convlayer.bias\n",
      "autoencoder.MCB_de.DEMCBBlocks.0.normlayer.weight\n",
      "autoencoder.MCB_de.DEMCBBlocks.0.normlayer.bias\n",
      "autoencoder.MCB_de.DEMCBBlocks.0.normlayer.running_mean\n",
      "autoencoder.MCB_de.DEMCBBlocks.0.normlayer.running_var\n",
      "autoencoder.MCB_de.DEMCBBlocks.0.normlayer.num_batches_tracked\n",
      "autoencoder.MCB_de.DEMCBBlocks.1.convlayer.weight\n",
      "autoencoder.MCB_de.DEMCBBlocks.1.convlayer.bias\n",
      "autoencoder.MCB_de.DEMCBBlocks.1.normlayer.weight\n",
      "autoencoder.MCB_de.DEMCBBlocks.1.normlayer.bias\n",
      "autoencoder.MCB_de.DEMCBBlocks.1.normlayer.running_mean\n",
      "autoencoder.MCB_de.DEMCBBlocks.1.normlayer.running_var\n",
      "autoencoder.MCB_de.DEMCBBlocks.1.normlayer.num_batches_tracked\n",
      "autoencoder.MCB_de.DEMCBBlocks.2.convlayer.weight\n",
      "autoencoder.MCB_de.DEMCBBlocks.2.convlayer.bias\n",
      "autoencoder.MCB_de.DEMCBBlocks.2.normlayer.weight\n",
      "autoencoder.MCB_de.DEMCBBlocks.2.normlayer.bias\n",
      "autoencoder.MCB_de.DEMCBBlocks.2.normlayer.running_mean\n",
      "autoencoder.MCB_de.DEMCBBlocks.2.normlayer.running_var\n",
      "autoencoder.MCB_de.DEMCBBlocks.2.normlayer.num_batches_tracked\n",
      "autoencoder.MCB_de.DEMCBBlocks.3.convlayer.weight\n",
      "autoencoder.MCB_de.DEMCBBlocks.3.convlayer.bias\n",
      "autoencoder.MCB_de.DEMCBBlocks.3.normlayer.weight\n",
      "autoencoder.MCB_de.DEMCBBlocks.3.normlayer.bias\n",
      "autoencoder.MCB_de.DEMCBBlocks.3.normlayer.running_mean\n",
      "autoencoder.MCB_de.DEMCBBlocks.3.normlayer.running_var\n",
      "autoencoder.MCB_de.DEMCBBlocks.3.normlayer.num_batches_tracked\n",
      "autoencoder.GRU_de.GRUBlocks.0.weight_ih_l0\n",
      "autoencoder.GRU_de.GRUBlocks.0.weight_hh_l0\n",
      "autoencoder.GRU_de.GRUBlocks.0.bias_ih_l0\n",
      "autoencoder.GRU_de.GRUBlocks.0.bias_hh_l0\n",
      "autoencoder.GRU_de.GRUBlocks.0.weight_ih_l1\n",
      "autoencoder.GRU_de.GRUBlocks.0.weight_hh_l1\n",
      "autoencoder.GRU_de.GRUBlocks.0.bias_ih_l1\n",
      "autoencoder.GRU_de.GRUBlocks.0.bias_hh_l1\n",
      "autoencoder.GRU_de.GRUBlocks.1.weight_ih_l0\n",
      "autoencoder.GRU_de.GRUBlocks.1.weight_hh_l0\n",
      "autoencoder.GRU_de.GRUBlocks.1.bias_ih_l0\n",
      "autoencoder.GRU_de.GRUBlocks.1.bias_hh_l0\n",
      "autoencoder.GRU_de.GRUBlocks.1.weight_ih_l1\n",
      "autoencoder.GRU_de.GRUBlocks.1.weight_hh_l1\n",
      "autoencoder.GRU_de.GRUBlocks.1.bias_ih_l1\n",
      "autoencoder.GRU_de.GRUBlocks.1.bias_hh_l1\n",
      "autoencoder.projection_in.weight\n",
      "autoencoder.projection_in.bias\n",
      "autoencoder.projection_out.weight\n",
      "autoencoder.projection_out.bias\n",
      "clusteringlayer.cluster_centers\n"
     ]
    }
   ],
   "source": [
    "for key in k['state_dict'].keys():\n",
    "    print(key)"
   ]
  }
 ],
 "metadata": {
  "kernelspec": {
   "display_name": "use1ess",
   "language": "python",
   "name": "python3"
  },
  "language_info": {
   "codemirror_mode": {
    "name": "ipython",
    "version": 3
   },
   "file_extension": ".py",
   "mimetype": "text/x-python",
   "name": "python",
   "nbconvert_exporter": "python",
   "pygments_lexer": "ipython3",
   "version": "3.8.0"
  },
  "orig_nbformat": 4
 },
 "nbformat": 4,
 "nbformat_minor": 2
}
