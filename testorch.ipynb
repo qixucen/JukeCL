{
 "cells": [
  {
   "cell_type": "code",
   "execution_count": 1,
   "metadata": {},
   "outputs": [],
   "source": [
    "import torch\n",
    "# print(torch.__version__)\n",
    "# device = 'cuda:0'\n",
    "# a = torch.randn(10000, 10000).to(device)\n",
    "# b = torch.randn(10000, 10000).to(device)\n",
    "# print(a @ b)"
   ]
  },
  {
   "cell_type": "code",
   "execution_count": 4,
   "metadata": {},
   "outputs": [
    {
     "name": "stdout",
     "output_type": "stream",
     "text": [
      "{'fit_loop': {'state_dict': {}, 'epoch_loop.state_dict': {'_batches_that_stepped': 19400}, 'epoch_loop.batch_progress': {'total': {'ready': 19400, 'completed': 19400, 'started': 19400, 'processed': 19400}, 'current': {'ready': 97, 'completed': 97, 'started': 97, 'processed': 97}, 'is_last_batch': True}, 'epoch_loop.scheduler_progress': {'total': {'ready': 0, 'completed': 0}, 'current': {'ready': 0, 'completed': 0}}, 'epoch_loop.automatic_optimization.state_dict': {}, 'epoch_loop.automatic_optimization.optim_progress': {'optimizer': {'step': {'total': {'ready': 19400, 'completed': 19400}, 'current': {'ready': 97, 'completed': 97}}, 'zero_grad': {'total': {'ready': 19400, 'completed': 19400, 'started': 19400}, 'current': {'ready': 97, 'completed': 97, 'started': 97}}}}, 'epoch_loop.manual_optimization.state_dict': {}, 'epoch_loop.manual_optimization.optim_step_progress': {'total': {'ready': 0, 'completed': 0}, 'current': {'ready': 0, 'completed': 0}}, 'epoch_loop.val_loop.state_dict': {}, 'epoch_loop.val_loop.batch_progress': {'total': {'ready': 0, 'completed': 0, 'started': 0, 'processed': 0}, 'current': {'ready': 0, 'completed': 0, 'started': 0, 'processed': 0}, 'is_last_batch': False}, 'epoch_progress': {'total': {'ready': 200, 'completed': 199, 'started': 200, 'processed': 200}, 'current': {'ready': 200, 'completed': 199, 'started': 200, 'processed': 200}}}, 'validate_loop': {'state_dict': {}, 'batch_progress': {'total': {'ready': 0, 'completed': 0, 'started': 0, 'processed': 0}, 'current': {'ready': 0, 'completed': 0, 'started': 0, 'processed': 0}, 'is_last_batch': False}}, 'test_loop': {'state_dict': {}, 'batch_progress': {'total': {'ready': 0, 'completed': 0, 'started': 0, 'processed': 0}, 'current': {'ready': 0, 'completed': 0, 'started': 0, 'processed': 0}, 'is_last_batch': False}}, 'predict_loop': {'state_dict': {}, 'batch_progress': {'total': {'ready': 0, 'completed': 0, 'started': 0, 'processed': 0}, 'current': {'ready': 0, 'completed': 0, 'started': 0, 'processed': 0}}}}\n"
     ]
    }
   ],
   "source": [
    "a = torch.load('/home/ubuntu/AI/clmr/runs/CLMRv2-magnatagatune/version_0/checkpoints/epoch=199-step=19400.ckpt')"
   ]
  }
 ],
 "metadata": {
  "kernelspec": {
   "display_name": "clmr",
   "language": "python",
   "name": "python3"
  },
  "language_info": {
   "codemirror_mode": {
    "name": "ipython",
    "version": 3
   },
   "file_extension": ".py",
   "mimetype": "text/x-python",
   "name": "python",
   "nbconvert_exporter": "python",
   "pygments_lexer": "ipython3",
   "version": "3.8.0"
  },
  "orig_nbformat": 4
 },
 "nbformat": 4,
 "nbformat_minor": 2
}
