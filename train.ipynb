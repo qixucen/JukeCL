{
 "cells": [
  {
   "cell_type": "code",
   "execution_count": 3,
   "metadata": {},
   "outputs": [
    {
     "name": "stderr",
     "output_type": "stream",
     "text": [
      "usage: ipykernel_launcher.py [-h] [--gpus GPUS] [--accelerator ACCELERATOR]\n",
      "                             [--workers WORKERS] [--dataset_dir DATASET_DIR]\n",
      "                             [--dataset DATASET] [--seed SEED]\n",
      "                             [--batch_size BATCH_SIZE]\n",
      "                             [--max_epochs MAX_EPOCHS] [--resume RESUME]\n",
      "                             [--projection_dim PROJECTION_DIM] [--k K]\n",
      "                             [--optimizer OPTIMIZER]\n",
      "                             [--learning_rate LEARNING_RATE]\n",
      "                             [--weight_decay WEIGHT_DECAY]\n",
      "                             [--temperature TEMPERATURE]\n",
      "                             [--checkpoint_path CHECKPOINT_PATH]\n",
      "                             [--num_clusters NUM_CLUSTERS]\n",
      "                             [--hidden_size HIDDEN_SIZE] [--alpha ALPHA]\n",
      "                             [--audio_length AUDIO_LENGTH]\n",
      "                             [--sample_rate SAMPLE_RATE]\n",
      "                             [--transforms_polarity TRANSFORMS_POLARITY]\n",
      "                             [--transforms_noise TRANSFORMS_NOISE]\n",
      "                             [--transforms_gain TRANSFORMS_GAIN]\n",
      "                             [--transforms_filters TRANSFORMS_FILTERS]\n",
      "                             [--transforms_delay TRANSFORMS_DELAY]\n",
      "                             [--transforms_pitch TRANSFORMS_PITCH]\n",
      "                             [--transforms_reverb TRANSFORMS_REVERB]\n",
      "                             [--load_dataset LOAD_DATASET]\n",
      "ipykernel_launcher.py: error: unrecognized arguments: --ip=127.0.0.1 --stdin=9008 --control=9006 --hb=9005 --Session.signature_scheme=\"hmac-sha256\" --Session.key=b\"d19c307d-4cb8-4fe0-a486-e24c63d16ce6\" --shell=9007 --transport=\"tcp\" --iopub=9009 --f=/home/ubuntu/.local/share/jupyter/runtime/kernel-v2-2371388bxzZ1ZJyEyYr.json\n"
     ]
    },
    {
     "ename": "SystemExit",
     "evalue": "2",
     "output_type": "error",
     "traceback": [
      "An exception has occurred, use %tb to see the full traceback.\n",
      "\u001b[0;31mSystemExit\u001b[0m\u001b[0;31m:\u001b[0m 2\n"
     ]
    }
   ],
   "source": [
    "import os\n",
    "import argparse\n",
    "import torch\n",
    "import numpy as np\n",
    "from module.learning import ClusteringLearning\n",
    "from module.utils import yaml_config_hook\n",
    "from dataprepare import get_dataset\n",
    "from torch.utils.data import DataLoader\n",
    "from train import MusicAutoEncoder\n",
    "from visualization import T_SNE\n",
    "\n",
    "device = torch.device('cuda:0')\n",
    "\n",
    "MCBdims = [(1, 96, 800), (64, 48, 400), (128, 16, 200), (128, 4, 50),\n",
    "           (128, 1, 25)]\n",
    "GRUdims = [(128, 25), (256, 25), (128, 25)]\n",
    "autoencoder = MusicAutoEncoder(MCBdims=MCBdims,\n",
    "                               GRUdims=GRUdims,\n",
    "                               feature_dim=32)\n",
    "\n",
    "parser = argparse.ArgumentParser(description=\"CLMR\")\n",
    "config = yaml_config_hook(\"./config/config.yaml\")\n",
    "for k, v in config.items():\n",
    "    parser.add_argument(f\"--{k}\", default=v, type=type(v))\n",
    "args = parser.parse_args()\n",
    "module = ClusteringLearning(args, autoencoder).to(device)\n",
    "checkpoint_path = '/home/ubuntu/AI/clmr/Unsupervised-Rhythm-Clustering-Embedding/runs/CLMRv2-GTZAN/version_2/checkpoints/epoch=53-step=864.ckpt'\n",
    "module = module.load_from_checkpoint(checkpoint_path=checkpoint_path, autoencoder = autoencoder, args = args)\n",
    "dataset = get_dataset(os.getcwd() + args.dataset_dir, args.dataset)\n",
    "label2index = dataset.label2index\n",
    "train_loader = DataLoader(\n",
    "    dataset,\n",
    "    batch_size=args.batch_size,\n",
    "    num_workers=16,\n",
    "    persistent_workers=True,\n",
    "    drop_last=False,\n",
    "    shuffle=True,\n",
    ")\n",
    "embeddings = []\n",
    "labels = []\n",
    "for batch in train_loader:\n",
    "    x, y = batch\n",
    "    x = x.to(device)\n",
    "    y = y.to(device)\n",
    "    embeddings.append(module.autoencoder(x)[0].cpu().detach().numpy())\n",
    "    labels.append(y.cpu().detach().numpy())\n",
    "embeddings = np.concatenate(embeddings, axis=0)\n",
    "labels = np.concatenate(labels, axis=0)\n",
    "print(labels.shape)\n",
    "T_SNE(embeddings, labels)"
   ]
  },
  {
   "cell_type": "code",
   "execution_count": 2,
   "metadata": {},
   "outputs": [
    {
     "name": "stdout",
     "output_type": "stream",
     "text": [
      "\n",
      "PackageNotInstalledError: Package is not installed in prefix.\n",
      "  prefix: /home/ubuntu/anaconda3/envs/clmr\n",
      "  package name: jupyter\n",
      "\n",
      "\n",
      "\n",
      "Note: you may need to restart the kernel to use updated packages.\n"
     ]
    }
   ],
   "source": [
    "conda update jupyter ipywidgets"
   ]
  },
  {
   "cell_type": "code",
   "execution_count": 2,
   "metadata": {},
   "outputs": [
    {
     "name": "stdout",
     "output_type": "stream",
     "text": [
      "Collecting package metadata (current_repodata.json): done\n",
      "Solving environment: done\n",
      "\n",
      "\n",
      "==> WARNING: A newer version of conda exists. <==\n",
      "  current version: 22.9.0\n",
      "  latest version: 23.5.2\n",
      "\n",
      "Please update conda by running\n",
      "\n",
      "    $ conda update -n base -c defaults conda\n",
      "\n",
      "\n",
      "\n",
      "## Package Plan ##\n",
      "\n",
      "  environment location: /home/ubuntu/anaconda3/envs/clmr\n",
      "\n",
      "  added / updated specs:\n",
      "    - ipywidgets\n",
      "\n",
      "\n",
      "The following packages will be downloaded:\n",
      "\n",
      "    package                    |            build\n",
      "    ---------------------------|-----------------\n",
      "    ipywidgets-8.0.7           |     pyhd8ed1ab_0         109 KB  conda-forge\n",
      "    jupyterlab_widgets-3.0.8   |     pyhd8ed1ab_0         183 KB  conda-forge\n",
      "    widgetsnbextension-4.0.8   |     pyhd8ed1ab_0         1.0 MB  conda-forge\n",
      "    ------------------------------------------------------------\n",
      "                                           Total:         1.3 MB\n",
      "\n",
      "The following NEW packages will be INSTALLED:\n",
      "\n",
      "  ipywidgets         conda-forge/noarch::ipywidgets-8.0.7-pyhd8ed1ab_0 None\n",
      "  jupyterlab_widgets conda-forge/noarch::jupyterlab_widgets-3.0.8-pyhd8ed1ab_0 None\n",
      "  widgetsnbextension conda-forge/noarch::widgetsnbextension-4.0.8-pyhd8ed1ab_0 None\n",
      "\n",
      "\n",
      "\n",
      "Downloading and Extracting Packages\n",
      "ipywidgets-8.0.7     | 109 KB    | ##################################### | 100% \n",
      "widgetsnbextension-4 | 1.0 MB    | ##################################### | 100% \n",
      "jupyterlab_widgets-3 | 183 KB    | ##################################### | 100% \n",
      "Preparing transaction: done\n",
      "Verifying transaction: done\n",
      "Executing transaction: done\n",
      "Retrieving notices: ...working... done\n",
      "\n",
      "Note: you may need to restart the kernel to use updated packages.\n"
     ]
    }
   ],
   "source": [
    "conda install -c conda-forge ipywidgets"
   ]
  }
 ],
 "metadata": {
  "kernelspec": {
   "display_name": "Python 3",
   "language": "python",
   "name": "python3"
  },
  "language_info": {
   "codemirror_mode": {
    "name": "ipython",
    "version": 3
   },
   "file_extension": ".py",
   "mimetype": "text/x-python",
   "name": "python",
   "nbconvert_exporter": "python",
   "pygments_lexer": "ipython3",
   "version": "3.8.0"
  },
  "orig_nbformat": 4
 },
 "nbformat": 4,
 "nbformat_minor": 2
}
